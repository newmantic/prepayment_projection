{
  "nbformat": 4,
  "nbformat_minor": 0,
  "metadata": {
    "colab": {
      "provenance": [],
      "authorship_tag": "ABX9TyNcLDg2uScm3QlB1f9F5vfT",
      "include_colab_link": true
    },
    "kernelspec": {
      "name": "python3",
      "display_name": "Python 3"
    },
    "language_info": {
      "name": "python"
    }
  },
  "cells": [
    {
      "cell_type": "markdown",
      "metadata": {
        "id": "view-in-github",
        "colab_type": "text"
      },
      "source": [
        "<a href=\"https://colab.research.google.com/github/newmantic/prepayment_projection/blob/main/prepayment_projection.ipynb\" target=\"_parent\"><img src=\"https://colab.research.google.com/assets/colab-badge.svg\" alt=\"Open In Colab\"/></a>"
      ]
    },
    {
      "cell_type": "code",
      "execution_count": 1,
      "metadata": {
        "id": "_H3OlPskwkXL"
      },
      "outputs": [],
      "source": [
        "import numpy as np\n",
        "\n",
        "# Example security characteristics\n",
        "initial_principal = 1000000  # Initial principal amount of the mortgage pool\n",
        "annual_cpr = 0.06  # Annual Conditional Prepayment Rate (CPR) - 6%\n",
        "months = 360  # 30-year mortgage\n",
        "\n",
        "def calculate_smm(cpr):\n",
        "    \"\"\"Convert annual CPR to Single Monthly Mortality (SMM) rate.\"\"\"\n",
        "    smm = 1 - (1 - cpr) ** (1/12)\n",
        "    return smm\n",
        "\n",
        "def prepayment_projection(principal, smm, months):\n",
        "    \"\"\"Project prepayments over the life of the mortgage pool.\"\"\"\n",
        "    prepayments = []\n",
        "    for month in range(1, months + 1):\n",
        "        prepayment = principal * smm\n",
        "        principal -= prepayment\n",
        "        prepayments.append(prepayment)\n",
        "    return np.array(prepayments)\n",
        "\n",
        "# Testable Example\n",
        "smm = calculate_smm(annual_cpr)\n",
        "prepayments = prepayment_projection(initial_principal, smm, months)"
      ]
    },
    {
      "cell_type": "code",
      "source": [
        "# Display the first 12 months of prepayments\n",
        "print(\"Prepayments for the first 12 months:\")\n",
        "print(prepayments[:12])\n",
        "\n",
        "# Total prepayments over the life of the mortgage\n",
        "total_prepayments = np.sum(prepayments)\n",
        "print(f\"Total Prepayments over 30 years: ${total_prepayments:.2f}\")"
      ],
      "metadata": {
        "colab": {
          "base_uri": "https://localhost:8080/"
        },
        "id": "1b4bHMTHxIBb",
        "outputId": "3f947236-7b0d-49e5-ec38-a7dd89f883e9"
      },
      "execution_count": 2,
      "outputs": [
        {
          "output_type": "stream",
          "name": "stdout",
          "text": [
            "Prepayments for the first 12 months:\n",
            "[5143.01283182 5116.56225083 5090.24770552 5064.06849626 5038.023927\n",
            " 5012.1133053  4986.33594225 4960.69115252 4935.17825427 4909.79656918\n",
            " 4884.54542242 4859.42414263]\n",
            "Total Prepayments over 30 years: $843744.39\n"
          ]
        }
      ]
    }
  ]
}